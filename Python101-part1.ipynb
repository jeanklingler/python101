{
 "cells": [
  {
   "cell_type": "markdown",
   "metadata": {},
   "source": [
    "# Python101 - part 1\n",
    "\n",
    "### Generators and iterators\n",
    "\n",
    "Mentoring material for a better understanding of some python basic concepts\n",
    "\n",
    "**BEFORE CONTINUING, CLICK ON `Kernel > Restart & Run All`**"
   ]
  },
  {
   "cell_type": "markdown",
   "metadata": {},
   "source": [
    "## Generators"
   ]
  },
  {
   "cell_type": "code",
   "execution_count": 1,
   "metadata": {},
   "outputs": [
    {
     "name": "stdout",
     "output_type": "stream",
     "text": [
      "start\n",
      "0\n",
      "1\n",
      "2\n",
      "end\n"
     ]
    }
   ],
   "source": [
    "def my_generator_func():\n",
    "    yield 'start'\n",
    "    for i in range(3):\n",
    "        yield i\n",
    "    yield 'end'\n",
    "    return 'done'  # useless\n",
    "\n",
    "for item in my_generator_func():\n",
    "    print(item)"
   ]
  },
  {
   "cell_type": "code",
   "execution_count": 2,
   "metadata": {},
   "outputs": [
    {
     "data": {
      "text/plain": [
       "['start', 0, 1, 2, 'end']"
      ]
     },
     "execution_count": 2,
     "metadata": {},
     "output_type": "execute_result"
    }
   ],
   "source": [
    "# retrieve all elements from a generator\n",
    "list(my_generator_func())"
   ]
  },
  {
   "cell_type": "code",
   "execution_count": 3,
   "metadata": {},
   "outputs": [
    {
     "data": {
      "text/plain": [
       "['start', 0, 1, 2, 'end']"
      ]
     },
     "execution_count": 3,
     "metadata": {},
     "output_type": "execute_result"
    }
   ],
   "source": [
    "# think of yield as \"push\" or \"append\"!\n",
    "def list_version():\n",
    "    l = []\n",
    "    l.append('start')\n",
    "    for i in range(3):\n",
    "        l.append(i)\n",
    "    l.append('end')\n",
    "    return l\n",
    "\n",
    "list_version()"
   ]
  },
  {
   "cell_type": "markdown",
   "metadata": {},
   "source": [
    "### Generator != Generator function"
   ]
  },
  {
   "cell_type": "code",
   "execution_count": 4,
   "metadata": {},
   "outputs": [
    {
     "name": "stdout",
     "output_type": "stream",
     "text": [
      "next: start\n",
      "next: 0\n",
      "next: 1\n",
      "remaining: [2, 'end']\n",
      "remaining: []\n"
     ]
    }
   ],
   "source": [
    "# the generator is stateful\n",
    "my_generator = my_generator_func()\n",
    "\n",
    "print('next:', next(my_generator))\n",
    "print('next:', next(my_generator))\n",
    "print('next:', next(my_generator))\n",
    "print('remaining:', list(my_generator))\n",
    "print('remaining:', list(my_generator))"
   ]
  },
  {
   "cell_type": "code",
   "execution_count": 5,
   "metadata": {},
   "outputs": [
    {
     "name": "stdout",
     "output_type": "stream",
     "text": [
      "new call: ['start', 0, 1, 2, 'end']\n",
      "new call: ['start', 0, 1, 2, 'end']\n"
     ]
    }
   ],
   "source": [
    "# the generator function returns a new generator each time\n",
    "print('new call:', list(my_generator_func()))\n",
    "print('new call:', list(my_generator_func()))"
   ]
  },
  {
   "cell_type": "markdown",
   "metadata": {},
   "source": [
    "### Generators can be inifinite!"
   ]
  },
  {
   "cell_type": "code",
   "execution_count": 6,
   "metadata": {},
   "outputs": [
    {
     "name": "stdout",
     "output_type": "stream",
     "text": [
      "next1: 0\n",
      "next1: 1\n",
      "next1: 2\n",
      "next1: 3\n"
     ]
    }
   ],
   "source": [
    "# does not have to be finite\n",
    "def new_counter():\n",
    "    i = 0\n",
    "    while True:\n",
    "        yield i\n",
    "        i += 1\n",
    "\n",
    "counter1 = new_counter()\n",
    "print('next1:', next(counter1))\n",
    "print('next1:', next(counter1))\n",
    "print('next1:', next(counter1))\n",
    "print('next1:', next(counter1))"
   ]
  },
  {
   "cell_type": "code",
   "execution_count": 7,
   "metadata": {},
   "outputs": [
    {
     "name": "stdout",
     "output_type": "stream",
     "text": [
      "next2: 0\n",
      "next2: 1\n",
      "next2: 2\n"
     ]
    }
   ],
   "source": [
    "# already exists in stdlib's itertools!\n",
    "# https://docs.python.org/3/library/itertools.html#itertools.count\n",
    "import itertools\n",
    "\n",
    "counter2 = itertools.count()\n",
    "\n",
    "print('next2:', next(counter2))\n",
    "print('next2:', next(counter2))\n",
    "print('next2:', next(counter2))"
   ]
  },
  {
   "cell_type": "code",
   "execution_count": 8,
   "metadata": {},
   "outputs": [],
   "source": [
    "# DON'T DO THIS THOUGH!\n",
    "# list(counter2)"
   ]
  },
  {
   "cell_type": "markdown",
   "metadata": {},
   "source": [
    "### Generators make lazy evaluation possible"
   ]
  },
  {
   "cell_type": "code",
   "execution_count": 9,
   "metadata": {},
   "outputs": [
    {
     "name": "stdout",
     "output_type": "stream",
     "text": [
      "take 5: [0, 1, 2, 3, 4]\n",
      "take 8: [5, 6, 7, 8, 9, 10, 11, 12]\n"
     ]
    }
   ],
   "source": [
    "def take(n, iterable):\n",
    "    \"\"\"\n",
    "    Return first n items of the iterable as a list\n",
    "    from https://docs.python.org/3/library/itertools.html#recipes\n",
    "    \"\"\"\n",
    "    return list(itertools.islice(iterable, n))\n",
    "\n",
    "counter3 = itertools.count()\n",
    "print('take 5:', take(5, counter3))\n",
    "print('take 8:', take(8, counter3))"
   ]
  },
  {
   "cell_type": "code",
   "execution_count": 10,
   "metadata": {},
   "outputs": [
    {
     "name": "stdout",
     "output_type": "stream",
     "text": [
      "generator: <generator object heavy_generator at 0x7f2fa88d34c0>\n",
      "> still not evaluated!\n",
      "processing... 0\n",
      "processing... 1\n",
      "processing... 2\n",
      "processing... 3\n",
      "evaluated: [0, 1, 2, 3]\n"
     ]
    }
   ],
   "source": [
    "import time\n",
    "\n",
    "def heavy_generator():\n",
    "    for i in range(4):\n",
    "        time.sleep(0.2)\n",
    "        print('processing...', i)\n",
    "        yield i\n",
    "\n",
    "generator = heavy_generator()\n",
    "print('generator:', generator)\n",
    "print('> still not evaluated!')\n",
    "evaluated = list(generator)\n",
    "print('evaluated:', evaluated)"
   ]
  },
  {
   "cell_type": "code",
   "execution_count": 11,
   "metadata": {},
   "outputs": [
    {
     "data": {
      "text/plain": [
       "[1, 2, 3, 5, 8, 13, 21, 34, 55, 89]"
      ]
     },
     "execution_count": 11,
     "metadata": {},
     "output_type": "execute_result"
    }
   ],
   "source": [
    "def fibonacci():\n",
    "    a, b = 1, 1\n",
    "    while True:\n",
    "        yield a\n",
    "        a, b = a + b, a\n",
    "\n",
    "# we only compute the terms we need\n",
    "take(10, fibonacci())"
   ]
  },
  {
   "cell_type": "markdown",
   "metadata": {},
   "source": [
    "#### Exercises"
   ]
  },
  {
   "cell_type": "code",
   "execution_count": 12,
   "metadata": {},
   "outputs": [
    {
     "data": {
      "text/plain": [
       "[None]"
      ]
     },
     "execution_count": 12,
     "metadata": {},
     "output_type": "execute_result"
    }
   ],
   "source": [
    "# Implement an infinite generator yielding 'A', 'B', 'C', 'A', 'B', ...\n",
    "\n",
    "def abc_generator():\n",
    "    yield None\n",
    "\n",
    "take(5, abc_generator())  # should be ['A', 'B', 'C', 'A', 'B']"
   ]
  },
  {
   "cell_type": "code",
   "execution_count": 13,
   "metadata": {},
   "outputs": [],
   "source": [
    "# Implement take without using itertools.islice\n",
    "\n",
    "def my_take(n, iterator):\n",
    "    return None\n",
    "\n",
    "my_take(5, itertools.count())  # should be [0, 1, 2, 3, 4]"
   ]
  },
  {
   "cell_type": "code",
   "execution_count": 14,
   "metadata": {},
   "outputs": [
    {
     "data": {
      "text/plain": [
       "[None]"
      ]
     },
     "execution_count": 14,
     "metadata": {},
     "output_type": "execute_result"
    }
   ],
   "source": [
    "# Implement an infinte fizzbuzz\n",
    "\n",
    "def fizzbuzz():\n",
    "    yield None\n",
    "\n",
    "expected = [\n",
    "    1,\n",
    "    2,\n",
    "    'fizz',\n",
    "    4,\n",
    "    'buzz',\n",
    "    'fizz',\n",
    "    7,\n",
    "    8,\n",
    "    'fizz',\n",
    "    'buzz',\n",
    "    11,\n",
    "    'fizz',\n",
    "    13,\n",
    "    14,\n",
    "    'fizzbuzz',\n",
    "]\n",
    "\n",
    "take(15, fizzbuzz())  # should be == expected"
   ]
  },
  {
   "cell_type": "markdown",
   "metadata": {},
   "source": [
    "## Iterables\n",
    "\n",
    "Basically everything you can loop on:"
   ]
  },
  {
   "cell_type": "code",
   "execution_count": 15,
   "metadata": {},
   "outputs": [
    {
     "name": "stdout",
     "output_type": "stream",
     "text": [
      "H\n",
      "e\n",
      "l\n",
      "l\n",
      "o\n"
     ]
    }
   ],
   "source": [
    "# A string:\n",
    "for c in 'Hello':\n",
    "    print(c)"
   ]
  },
  {
   "cell_type": "code",
   "execution_count": 16,
   "metadata": {},
   "outputs": [
    {
     "name": "stdout",
     "output_type": "stream",
     "text": [
      "5\n",
      "7\n",
      "1\n",
      "0\n"
     ]
    }
   ],
   "source": [
    "# A list:\n",
    "for i in [5, 7, 1, 0]:\n",
    "    print(i)"
   ]
  },
  {
   "cell_type": "code",
   "execution_count": 17,
   "metadata": {},
   "outputs": [
    {
     "name": "stdout",
     "output_type": "stream",
     "text": [
      "0\n",
      "1\n",
      "2\n",
      "3\n"
     ]
    }
   ],
   "source": [
    "# A range:\n",
    "for i in range(4):\n",
    "    print(i)"
   ]
  },
  {
   "cell_type": "code",
   "execution_count": 18,
   "metadata": {},
   "outputs": [
    {
     "name": "stdout",
     "output_type": "stream",
     "text": [
      "6\n",
      "8\n",
      "9\n"
     ]
    }
   ],
   "source": [
    "# A tuple:\n",
    "for i in (6, 8, 9):\n",
    "    print(i)"
   ]
  },
  {
   "cell_type": "code",
   "execution_count": 19,
   "metadata": {},
   "outputs": [
    {
     "name": "stdout",
     "output_type": "stream",
     "text": [
      "1\n",
      "2\n",
      "3\n",
      "4\n"
     ]
    }
   ],
   "source": [
    "# A set:\n",
    "for i in {1, 2, 3, 4}:\n",
    "    print(i)"
   ]
  },
  {
   "cell_type": "code",
   "execution_count": 20,
   "metadata": {},
   "outputs": [
    {
     "name": "stdout",
     "output_type": "stream",
     "text": [
      "start\n",
      "0\n",
      "1\n",
      "2\n",
      "end\n"
     ]
    }
   ],
   "source": [
    "# A generator:\n",
    "for i in my_generator_func():\n",
    "    print(i)"
   ]
  },
  {
   "cell_type": "code",
   "execution_count": 21,
   "metadata": {},
   "outputs": [
    {
     "name": "stdout",
     "output_type": "stream",
     "text": [
      "1 \n",
      "\n",
      "2 # Byte-compiled / optimized / DLL files\n",
      "\n",
      "3 __pycache__/\n",
      "\n",
      "4 *.py[cod]\n",
      "\n",
      "5 *$py.class\n",
      "\n",
      "6 \n",
      "\n"
     ]
    }
   ],
   "source": [
    "# but also real-world examples: a file, a database cursor...\n",
    "i = 0\n",
    "with open('.gitignore', 'r') as f:\n",
    "    for chunk in f:\n",
    "        i += 1\n",
    "        print(i, chunk)\n",
    "        if i > 5:\n",
    "            break"
   ]
  },
  {
   "cell_type": "markdown",
   "metadata": {},
   "source": [
    "> BTW, you never do this in python. Use `enumerate`!"
   ]
  },
  {
   "cell_type": "code",
   "execution_count": 22,
   "metadata": {},
   "outputs": [
    {
     "name": "stdout",
     "output_type": "stream",
     "text": [
      "0 \n",
      "\n",
      "1 # Byte-compiled / optimized / DLL files\n",
      "\n",
      "2 __pycache__/\n",
      "\n",
      "3 *.py[cod]\n",
      "\n",
      "4 *$py.class\n",
      "\n",
      "5 \n",
      "\n",
      "6 # C extensions\n",
      "\n"
     ]
    }
   ],
   "source": [
    "# use enumerate(iterator) to get a new iterator with the index\n",
    "with open('.gitignore', 'r') as f:\n",
    "    for i, chunk in enumerate(f):\n",
    "        print(i, chunk)\n",
    "        if i > 5:\n",
    "            break"
   ]
  },
  {
   "cell_type": "markdown",
   "metadata": {},
   "source": [
    "### Pro-tip: the list constructor\n",
    "\n",
    "You can use the list constructor on any (non-infinite) iterable to see all its elements:"
   ]
  },
  {
   "cell_type": "code",
   "execution_count": 23,
   "metadata": {},
   "outputs": [
    {
     "data": {
      "text/plain": [
       "['H', 'e', 'l', 'l', 'o']"
      ]
     },
     "execution_count": 23,
     "metadata": {},
     "output_type": "execute_result"
    }
   ],
   "source": [
    "# a string:\n",
    "list('Hello')"
   ]
  },
  {
   "cell_type": "code",
   "execution_count": 24,
   "metadata": {},
   "outputs": [
    {
     "data": {
      "text/plain": [
       "[5, 7, 1, 0]"
      ]
     },
     "execution_count": 24,
     "metadata": {},
     "output_type": "execute_result"
    }
   ],
   "source": [
    "# a list:\n",
    "list([5, 7, 1, 0])"
   ]
  },
  {
   "cell_type": "code",
   "execution_count": 25,
   "metadata": {},
   "outputs": [
    {
     "data": {
      "text/plain": [
       "[0, 1, 2, 3]"
      ]
     },
     "execution_count": 25,
     "metadata": {},
     "output_type": "execute_result"
    }
   ],
   "source": [
    "# a range:\n",
    "list(range(4))"
   ]
  },
  {
   "cell_type": "code",
   "execution_count": 26,
   "metadata": {},
   "outputs": [
    {
     "data": {
      "text/plain": [
       "[6, 8, 9]"
      ]
     },
     "execution_count": 26,
     "metadata": {},
     "output_type": "execute_result"
    }
   ],
   "source": [
    "# a tuple:\n",
    "list((6, 8, 9))"
   ]
  },
  {
   "cell_type": "code",
   "execution_count": 27,
   "metadata": {},
   "outputs": [
    {
     "data": {
      "text/plain": [
       "[1, 2, 3, 4]"
      ]
     },
     "execution_count": 27,
     "metadata": {},
     "output_type": "execute_result"
    }
   ],
   "source": [
    "# a set:\n",
    "list({1, 2, 3, 4})"
   ]
  },
  {
   "cell_type": "code",
   "execution_count": 28,
   "metadata": {},
   "outputs": [
    {
     "data": {
      "text/plain": [
       "['start', 0, 1, 2, 'end']"
      ]
     },
     "execution_count": 28,
     "metadata": {},
     "output_type": "execute_result"
    }
   ],
   "source": [
    "# a generator:\n",
    "list(my_generator_func())"
   ]
  },
  {
   "cell_type": "code",
   "execution_count": 29,
   "metadata": {},
   "outputs": [
    {
     "data": {
      "text/plain": [
       "[(0, 55), (1, 777)]"
      ]
     },
     "execution_count": 29,
     "metadata": {},
     "output_type": "execute_result"
    }
   ],
   "source": [
    "# an enumerate:\n",
    "list(enumerate([55, 777]))"
   ]
  },
  {
   "cell_type": "markdown",
   "metadata": {},
   "source": [
    "### Pro-tip: use constructors for casting!\n",
    "\n",
    "You can use other constructors on any iterable (simple casting)"
   ]
  },
  {
   "cell_type": "code",
   "execution_count": 30,
   "metadata": {},
   "outputs": [
    {
     "data": {
      "text/plain": [
       "(0, 1, 2, 3, 4)"
      ]
     },
     "execution_count": 30,
     "metadata": {},
     "output_type": "execute_result"
    }
   ],
   "source": [
    "# a tuple:\n",
    "tuple(range(5))"
   ]
  },
  {
   "cell_type": "code",
   "execution_count": 31,
   "metadata": {},
   "outputs": [
    {
     "data": {
      "text/plain": [
       "{'D', 'S', 'g', 'n', 'o', 'p', 'y'}"
      ]
     },
     "execution_count": 31,
     "metadata": {},
     "output_type": "execute_result"
    }
   ],
   "source": [
    "# a set:\n",
    "set('SnoopDoggyDog')"
   ]
  },
  {
   "cell_type": "code",
   "execution_count": 32,
   "metadata": {},
   "outputs": [
    {
     "data": {
      "text/plain": [
       "{1: 3, 4: 9}"
      ]
     },
     "execution_count": 32,
     "metadata": {},
     "output_type": "execute_result"
    }
   ],
   "source": [
    "# a dict (iterator of tuples):\n",
    "dict([(1, 3), (4, 9)])"
   ]
  },
  {
   "cell_type": "code",
   "execution_count": 33,
   "metadata": {},
   "outputs": [
    {
     "data": {
      "text/plain": [
       "{0: 'h', 1: 'e', 2: 'l', 3: 'l', 4: 'o'}"
      ]
     },
     "execution_count": 33,
     "metadata": {},
     "output_type": "execute_result"
    }
   ],
   "source": [
    "# a dict (again:\n",
    "dict(enumerate('hello'))"
   ]
  },
  {
   "cell_type": "markdown",
   "metadata": {},
   "source": [
    "### Pro-tip: Use list-comprehensions!\n",
    "\n",
    "1. Less code, clearer code\n",
    "2. Better performance!\n",
    "3. They are idiomatic of good python code (i.e. they are \"pythonic\")"
   ]
  },
  {
   "cell_type": "code",
   "execution_count": 34,
   "metadata": {},
   "outputs": [],
   "source": [
    "def next_ascii_char(c):\n",
    "    \"\"\"\n",
    "    A simple function we'll use below to illustrate\n",
    "    \"\"\"\n",
    "    return chr(ord(c) + 1)"
   ]
  },
  {
   "cell_type": "code",
   "execution_count": 35,
   "metadata": {},
   "outputs": [
    {
     "data": {
      "text/plain": [
       "['I', 'f', 'm', 'm', 'p']"
      ]
     },
     "execution_count": 35,
     "metadata": {},
     "output_type": "execute_result"
    }
   ],
   "source": [
    "# same as the \"map\" function\n",
    "[next_ascii_char(c) for c in 'Hello']"
   ]
  },
  {
   "cell_type": "code",
   "execution_count": 36,
   "metadata": {},
   "outputs": [
    {
     "data": {
      "text/plain": [
       "['H', 'e', 'o']"
      ]
     },
     "execution_count": 36,
     "metadata": {},
     "output_type": "execute_result"
    }
   ],
   "source": [
    "# same as the \"filter\" function\n",
    "[c for c in 'Hello' if c != 'l']"
   ]
  },
  {
   "cell_type": "code",
   "execution_count": 37,
   "metadata": {},
   "outputs": [
    {
     "data": {
      "text/plain": [
       "['I', 'f', 'p']"
      ]
     },
     "execution_count": 37,
     "metadata": {},
     "output_type": "execute_result"
    }
   ],
   "source": [
    "# filter & map at the same time\n",
    "[next_ascii_char(c) for c in 'Hello' if c != 'l']"
   ]
  },
  {
   "cell_type": "code",
   "execution_count": 38,
   "metadata": {},
   "outputs": [
    {
     "data": {
      "text/plain": [
       "['pierre@gmail.com',\n",
       " 'pierre@hotmail.com',\n",
       " 'pierre@yopmail.com',\n",
       " 'paul@gmail.com',\n",
       " 'paul@hotmail.com',\n",
       " 'paul@yopmail.com',\n",
       " 'jack@gmail.com',\n",
       " 'jack@hotmail.com',\n",
       " 'jack@yopmail.com']"
      ]
     },
     "execution_count": 38,
     "metadata": {},
     "output_type": "execute_result"
    }
   ],
   "source": [
    "# two nested loops - not necessary a good idea ;)\n",
    "emails = [f'{x}@{y}' for x in ['pierre', 'paul', 'jack'] for y in ['gmail.com', 'hotmail.com', 'yopmail.com']]\n",
    "emails"
   ]
  },
  {
   "cell_type": "markdown",
   "metadata": {},
   "source": [
    "### It's not just *list* comprehensions!"
   ]
  },
  {
   "cell_type": "code",
   "execution_count": 39,
   "metadata": {},
   "outputs": [
    {
     "data": {
      "text/plain": [
       "{72: 'H', 101: 'e', 108: 'l', 111: 'o'}"
      ]
     },
     "execution_count": 39,
     "metadata": {},
     "output_type": "execute_result"
    }
   ],
   "source": [
    "# dict comprehensions:\n",
    "{ord(c): c for c in 'Hello'}"
   ]
  },
  {
   "cell_type": "code",
   "execution_count": 40,
   "metadata": {},
   "outputs": [
    {
     "data": {
      "text/plain": [
       "{1, 2, 4, 5, 7}"
      ]
     },
     "execution_count": 40,
     "metadata": {},
     "output_type": "execute_result"
    }
   ],
   "source": [
    "# set comprehensions:\n",
    "{i for i in range(8) if i % 3}"
   ]
  },
  {
   "cell_type": "code",
   "execution_count": 41,
   "metadata": {},
   "outputs": [
    {
     "data": {
      "text/plain": [
       "(72, 101, 108, 108, 111)"
      ]
     },
     "execution_count": 41,
     "metadata": {},
     "output_type": "execute_result"
    }
   ],
   "source": [
    "# \"tuple comprehensions\":\n",
    "tuple(ord(c) for c in 'Hello')"
   ]
  },
  {
   "cell_type": "code",
   "execution_count": 42,
   "metadata": {},
   "outputs": [
    {
     "data": {
      "text/plain": [
       "<generator object <genexpr> at 0x7f2fa88d9410>"
      ]
     },
     "execution_count": 42,
     "metadata": {},
     "output_type": "execute_result"
    }
   ],
   "source": [
    "# Generator comprehensions:\n",
    "all_ints_with_one = (i for i in itertools.count() if '1' in str(i))\n",
    "\n",
    "all_ints_with_one # not evaluated here"
   ]
  },
  {
   "cell_type": "code",
   "execution_count": 43,
   "metadata": {},
   "outputs": [
    {
     "data": {
      "text/plain": [
       "[1, 10, 11, 12, 13, 14, 15, 16, 17, 18, 19, 21, 31, 41, 51]"
      ]
     },
     "execution_count": 43,
     "metadata": {},
     "output_type": "execute_result"
    }
   ],
   "source": [
    "# evaluated lazily!\n",
    "take(15, all_ints_with_one)  # replay this block"
   ]
  },
  {
   "cell_type": "code",
   "execution_count": 44,
   "metadata": {},
   "outputs": [
    {
     "name": "stdout",
     "output_type": "stream",
     "text": [
      "filtered: <generator object <genexpr> at 0x7f2fa88d97d8>\n",
      "> still not evaluated!\n",
      "squared: <generator object <genexpr> at 0x7f2fa88d9830>\n",
      "> still not evaluated!\n",
      "processing... 0\n",
      "processing... 1\n",
      "processing... 2\n",
      "processing... 3\n",
      "evaluated: [1, 9]\n"
     ]
    }
   ],
   "source": [
    "filtered = (x for x in heavy_generator() if x % 2)\n",
    "print('filtered:', filtered)\n",
    "print('> still not evaluated!')\n",
    "\n",
    "squared = (x ** 2 for x in filtered)\n",
    "print('squared:', squared)\n",
    "print('> still not evaluated!')\n",
    "\n",
    "evaluated = list(squared)\n",
    "print('evaluated:', evaluated)"
   ]
  },
  {
   "cell_type": "markdown",
   "metadata": {},
   "source": [
    "### Anti-pattern: never do this for simple loops!"
   ]
  },
  {
   "cell_type": "code",
   "execution_count": 45,
   "metadata": {},
   "outputs": [
    {
     "data": {
      "text/plain": [
       "['PIDGET', 'EAGLE', 'FALCON', 'PIDGET']"
      ]
     },
     "execution_count": 45,
     "metadata": {},
     "output_type": "execute_result"
    }
   ],
   "source": [
    "birds = ('pidget', 'eagle', 'falcon', 'pidget')  # some iterable\n",
    "\n",
    "# ugly golang-style ;)\n",
    "results = []\n",
    "for bird in birds:\n",
    "    results.append(bird.upper())\n",
    "    \n",
    "results"
   ]
  },
  {
   "cell_type": "code",
   "execution_count": 46,
   "metadata": {},
   "outputs": [
    {
     "data": {
      "text/plain": [
       "{'EAGLE', 'FALCON', 'PIDGET'}"
      ]
     },
     "execution_count": 46,
     "metadata": {},
     "output_type": "execute_result"
    }
   ],
   "source": [
    "# or even worse: ugly C-style ;)\n",
    "results = set()\n",
    "for i in range(len(birds)):\n",
    "    results.add(birds[i].upper())\n",
    "    \n",
    "results"
   ]
  },
  {
   "cell_type": "markdown",
   "metadata": {},
   "source": [
    "> This kind of small loops are:\n",
    "- less pythonic\n",
    "- less performant\n",
    "- more verbose\n",
    "- less readable"
   ]
  },
  {
   "cell_type": "markdown",
   "metadata": {},
   "source": [
    "### Another typical examples: welcome `str.join`!\n",
    "\n",
    "- unlike JS, defined in the string and not the array\n",
    "- makes sense because not restricted to arrays!\n",
    "- works on any `Sequence[str]`"
   ]
  },
  {
   "cell_type": "code",
   "execution_count": 47,
   "metadata": {},
   "outputs": [
    {
     "data": {
      "text/plain": [
       "'A-B-C-D-E-F'"
      ]
     },
     "execution_count": 47,
     "metadata": {},
     "output_type": "execute_result"
    }
   ],
   "source": [
    "'-'.join('ABCDEF')  # a str is a sequence of chars that are themselves str"
   ]
  },
  {
   "cell_type": "code",
   "execution_count": 48,
   "metadata": {},
   "outputs": [
    {
     "data": {
      "text/plain": [
       "'First,Second,Third'"
      ]
     },
     "execution_count": 48,
     "metadata": {},
     "output_type": "execute_result"
    }
   ],
   "source": [
    "','.join(['First', 'Second', 'Third'])  # a list"
   ]
  },
  {
   "cell_type": "code",
   "execution_count": 49,
   "metadata": {},
   "outputs": [
    {
     "data": {
      "text/plain": [
       "'YouaretearingmeappartLisa'"
      ]
     },
     "execution_count": 49,
     "metadata": {},
     "output_type": "execute_result"
    }
   ],
   "source": [
    "''.join('You are tearing me appart Lisa'.split())  # another list"
   ]
  },
  {
   "cell_type": "code",
   "execution_count": 50,
   "metadata": {},
   "outputs": [
    {
     "data": {
      "text/plain": [
       "'First,Third'"
      ]
     },
     "execution_count": 50,
     "metadata": {},
     "output_type": "execute_result"
    }
   ],
   "source": [
    "# even with a generator comprehension:\n",
    "','.join(s for s in ['First', 'Second', 'Third'] if 'i' in s)"
   ]
  },
  {
   "cell_type": "markdown",
   "metadata": {},
   "source": [
    "### Pro-tip: A lot of functions take any iterable (not a list)"
   ]
  },
  {
   "cell_type": "code",
   "execution_count": 51,
   "metadata": {},
   "outputs": [
    {
     "data": {
      "text/plain": [
       "['A', 'e', 'e', 'm', 'o', 's', 'w']"
      ]
     },
     "execution_count": 51,
     "metadata": {},
     "output_type": "execute_result"
    }
   ],
   "source": [
    "sorted('Awesome')"
   ]
  },
  {
   "cell_type": "code",
   "execution_count": 52,
   "metadata": {},
   "outputs": [
    {
     "data": {
      "text/plain": [
       "['e', 'm', 'o', 's', 'e', 'w', 'A']"
      ]
     },
     "execution_count": 52,
     "metadata": {},
     "output_type": "execute_result"
    }
   ],
   "source": [
    "list(reversed('Awesome'))"
   ]
  },
  {
   "cell_type": "code",
   "execution_count": 53,
   "metadata": {},
   "outputs": [
    {
     "data": {
      "text/plain": [
       "<reversed at 0x7f2fa887c860>"
      ]
     },
     "execution_count": 53,
     "metadata": {},
     "output_type": "execute_result"
    }
   ],
   "source": [
    "# lazy iterator as well:\n",
    "reversed('Awesome')"
   ]
  },
  {
   "cell_type": "markdown",
   "metadata": {},
   "source": [
    "#### Exercises"
   ]
  },
  {
   "cell_type": "code",
   "execution_count": 54,
   "metadata": {},
   "outputs": [
    {
     "data": {
      "text/plain": [
       "0"
      ]
     },
     "execution_count": 54,
     "metadata": {},
     "output_type": "execute_result"
    }
   ],
   "source": [
    "# How many distinct characters in a phrase?\n",
    "# (should ignore the case: 'A' and 'a' should be counted as the same char)\n",
    "\n",
    "def distinct_chars(s):\n",
    "    return 0\n",
    "\n",
    "distinct_chars('This Is A Really Long String') # should be 13"
   ]
  },
  {
   "cell_type": "code",
   "execution_count": 55,
   "metadata": {},
   "outputs": [
    {
     "data": {
      "text/plain": [
       "''"
      ]
     },
     "execution_count": 55,
     "metadata": {},
     "output_type": "execute_result"
    }
   ],
   "source": [
    "# Remove all words that are smaller than n characters\n",
    "def remove_small_words(s, n):\n",
    "    return ''\n",
    "\n",
    "remove_small_words('What the hell are you doing', 3) # should be 'What hell doing'"
   ]
  },
  {
   "cell_type": "code",
   "execution_count": 56,
   "metadata": {},
   "outputs": [
    {
     "data": {
      "text/plain": [
       "''"
      ]
     },
     "execution_count": 56,
     "metadata": {},
     "output_type": "execute_result"
    }
   ],
   "source": [
    "# Create a string in the shape 1-2-3-4...\n",
    "def generate_int_list_string(n):\n",
    "    return ''\n",
    "\n",
    "generate_int_list_string(5) # should be '1-2-3-4-5'"
   ]
  }
 ],
 "metadata": {
  "kernelspec": {
   "display_name": "Python 3",
   "language": "python",
   "name": "python3"
  },
  "language_info": {
   "codemirror_mode": {
    "name": "ipython",
    "version": 3
   },
   "file_extension": ".py",
   "mimetype": "text/x-python",
   "name": "python",
   "nbconvert_exporter": "python",
   "pygments_lexer": "ipython3",
   "version": "3.6.7"
  }
 },
 "nbformat": 4,
 "nbformat_minor": 2
}
